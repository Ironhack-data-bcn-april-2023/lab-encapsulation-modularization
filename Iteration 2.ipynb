{
 "cells": [
  {
   "cell_type": "markdown",
   "id": "4d6436d8",
   "metadata": {},
   "source": [
    "# Create functions re-using the code from Iteration 1"
   ]
  },
  {
   "cell_type": "markdown",
   "id": "6064c879",
   "metadata": {},
   "source": [
    "## Challenge 1: downloading function"
   ]
  },
  {
   "cell_type": "markdown",
   "id": "b10e2c30",
   "metadata": {},
   "source": [
    "- Params\n",
    "    - url\n",
    "    - name (of the file)\n",
    " \n",
    "- Return: the dataframne\n",
    "- Downloads the passed url into the data folder with the given name. \n",
    "- After downloading, it will assign the `df` variable to the csv according to its path."
   ]
  },
  {
   "cell_type": "code",
   "execution_count": 16,
   "id": "8c91ab44",
   "metadata": {},
   "outputs": [],
   "source": [
    "import os\n",
    "import pandas as pd\n",
    "\n",
    "path = \"data/avocado.csv\"\n",
    "def downloading (path):\n",
    "    df = pd.read_csv(path)\n",
    "    return df\n",
    "\n",
    "df = downloading(path)\n"
   ]
  },
  {
   "cell_type": "markdown",
   "id": "8cb28fb6",
   "metadata": {},
   "source": [
    "## Challenge 2: Cleaning function"
   ]
  },
  {
   "cell_type": "markdown",
   "id": "5135c162",
   "metadata": {},
   "source": [
    "- Params\n",
    "    - receives a dataframe\n",
    " \n",
    "- Return: the clean dataframe.\n",
    "- Cleans the dataframe and exports a cleaned version. It will assign the `df` variable to the csv according to its path."
   ]
  },
  {
   "cell_type": "code",
   "execution_count": 17,
   "id": "82a9cb25",
   "metadata": {},
   "outputs": [],
   "source": [
    "def basic_cleaning (df):\n",
    "    df.dropna(inplace=True)\n",
    "    df.columns = [i.lower().replace(\" \", \"_\") for i in df.columns]\n",
    "    df.to_csv(\"data/\"+\"clean.csv\", index = False)\n",
    "    return df\n",
    "\n",
    "clean_df = basic_cleaning(df)\n"
   ]
  },
  {
   "cell_type": "markdown",
   "id": "d93b803e",
   "metadata": {},
   "source": [
    "## Challenge 3: Visualization function"
   ]
  },
  {
   "cell_type": "markdown",
   "id": "d7cf41f0",
   "metadata": {},
   "source": [
    "- Params\n",
    "    - receives a dataframe\n",
    "    - receives the name of the exported file\n",
    " \n",
    "- Return: not needed\n",
    "- Exports a figure into the images folder and opens it."
   ]
  },
  {
   "cell_type": "code",
   "execution_count": null,
   "id": "ea7d750b",
   "metadata": {},
   "outputs": [],
   "source": [
    "import matplotlib\n",
    "\n",
    "def visualizing (df, name_file):\n",
    "    image.get_figure().savefig(\"images/\" + name_file)\n",
    "    os.system(\"start images/\" + name_file + \".png\")\n",
    "    pass"
   ]
  },
  {
   "cell_type": "markdown",
   "id": "7c7bc0bd",
   "metadata": {},
   "source": [
    "## Challenge 4: Document the functions"
   ]
  },
  {
   "cell_type": "markdown",
   "id": "a7bf220a",
   "metadata": {},
   "source": [
    "- Use docstrings\n",
    "- Use hashtags if necessary"
   ]
  }
 ],
 "metadata": {
  "kernelspec": {
   "display_name": "ironhack",
   "language": "python",
   "name": "ironhack"
  },
  "language_info": {
   "codemirror_mode": {
    "name": "ipython",
    "version": 3
   },
   "file_extension": ".py",
   "mimetype": "text/x-python",
   "name": "python",
   "nbconvert_exporter": "python",
   "pygments_lexer": "ipython3",
   "version": "3.10.9"
  }
 },
 "nbformat": 4,
 "nbformat_minor": 5
}
